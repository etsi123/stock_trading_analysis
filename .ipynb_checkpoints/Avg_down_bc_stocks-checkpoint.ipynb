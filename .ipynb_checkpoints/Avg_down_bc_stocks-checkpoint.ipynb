{
 "cells": [
  {
   "cell_type": "code",
   "execution_count": 64,
   "id": "9c9b5036",
   "metadata": {},
   "outputs": [],
   "source": [
    "import pandas as pd\n",
    "import numpy as np\n",
    "import yfinance as yf\n",
    "import datetime\n",
    "from datetime import date, timedelta"
   ]
  },
  {
   "cell_type": "code",
   "execution_count": 16,
   "id": "012202f8",
   "metadata": {},
   "outputs": [
    {
     "data": {
      "text/html": [
       "<div>\n",
       "<style scoped>\n",
       "    .dataframe tbody tr th:only-of-type {\n",
       "        vertical-align: middle;\n",
       "    }\n",
       "\n",
       "    .dataframe tbody tr th {\n",
       "        vertical-align: top;\n",
       "    }\n",
       "\n",
       "    .dataframe thead th {\n",
       "        text-align: right;\n",
       "    }\n",
       "</style>\n",
       "<table border=\"1\" class=\"dataframe\">\n",
       "  <thead>\n",
       "    <tr style=\"text-align: right;\">\n",
       "      <th></th>\n",
       "      <th>Date</th>\n",
       "      <th>Open</th>\n",
       "      <th>High</th>\n",
       "      <th>Low</th>\n",
       "      <th>Close</th>\n",
       "      <th>Adj Close</th>\n",
       "      <th>Volume</th>\n",
       "    </tr>\n",
       "  </thead>\n",
       "  <tbody>\n",
       "    <tr>\n",
       "      <th>0</th>\n",
       "      <td>2022-05-09</td>\n",
       "      <td>154.929993</td>\n",
       "      <td>155.830002</td>\n",
       "      <td>151.490005</td>\n",
       "      <td>152.059998</td>\n",
       "      <td>151.366486</td>\n",
       "      <td>131577900</td>\n",
       "    </tr>\n",
       "    <tr>\n",
       "      <th>1</th>\n",
       "      <td>2022-05-10</td>\n",
       "      <td>155.520004</td>\n",
       "      <td>156.740005</td>\n",
       "      <td>152.929993</td>\n",
       "      <td>154.509995</td>\n",
       "      <td>153.805298</td>\n",
       "      <td>115366700</td>\n",
       "    </tr>\n",
       "    <tr>\n",
       "      <th>2</th>\n",
       "      <td>2022-05-11</td>\n",
       "      <td>153.500000</td>\n",
       "      <td>155.449997</td>\n",
       "      <td>145.809998</td>\n",
       "      <td>146.500000</td>\n",
       "      <td>145.831848</td>\n",
       "      <td>142689800</td>\n",
       "    </tr>\n",
       "    <tr>\n",
       "      <th>3</th>\n",
       "      <td>2022-05-12</td>\n",
       "      <td>142.770004</td>\n",
       "      <td>146.199997</td>\n",
       "      <td>138.800003</td>\n",
       "      <td>142.559998</td>\n",
       "      <td>141.909805</td>\n",
       "      <td>182602000</td>\n",
       "    </tr>\n",
       "    <tr>\n",
       "      <th>4</th>\n",
       "      <td>2022-05-13</td>\n",
       "      <td>144.589996</td>\n",
       "      <td>148.100006</td>\n",
       "      <td>143.110001</td>\n",
       "      <td>147.110001</td>\n",
       "      <td>146.439056</td>\n",
       "      <td>113990900</td>\n",
       "    </tr>\n",
       "  </tbody>\n",
       "</table>\n",
       "</div>"
      ],
      "text/plain": [
       "        Date        Open        High         Low       Close   Adj Close  \\\n",
       "0 2022-05-09  154.929993  155.830002  151.490005  152.059998  151.366486   \n",
       "1 2022-05-10  155.520004  156.740005  152.929993  154.509995  153.805298   \n",
       "2 2022-05-11  153.500000  155.449997  145.809998  146.500000  145.831848   \n",
       "3 2022-05-12  142.770004  146.199997  138.800003  142.559998  141.909805   \n",
       "4 2022-05-13  144.589996  148.100006  143.110001  147.110001  146.439056   \n",
       "\n",
       "      Volume  \n",
       "0  131577900  \n",
       "1  115366700  \n",
       "2  142689800  \n",
       "3  182602000  \n",
       "4  113990900  "
      ]
     },
     "execution_count": 16,
     "metadata": {},
     "output_type": "execute_result"
    }
   ],
   "source": [
    "today = date.today()\n",
    "d1 = today.strftime(\"%Y-%m-%d\")\n",
    "end_date = d1\n",
    "d2 = date.today() - timedelta(days=360)\n",
    "d2 = d2.strftime(\"%Y-%m-%d\")\n",
    "start_date = d2\n",
    "\n",
    "data = yf.download('AAPL', \n",
    "                      start=start_date, \n",
    "                      end=end_date, \n",
    "                      progress=False)\n",
    "data = data.reset_index()\n",
    "data.head()"
   ]
  },
  {
   "cell_type": "code",
   "execution_count": 17,
   "id": "26221020",
   "metadata": {},
   "outputs": [
    {
     "data": {
      "text/html": [
       "<div>\n",
       "<style scoped>\n",
       "    .dataframe tbody tr th:only-of-type {\n",
       "        vertical-align: middle;\n",
       "    }\n",
       "\n",
       "    .dataframe tbody tr th {\n",
       "        vertical-align: top;\n",
       "    }\n",
       "\n",
       "    .dataframe thead th {\n",
       "        text-align: right;\n",
       "    }\n",
       "</style>\n",
       "<table border=\"1\" class=\"dataframe\">\n",
       "  <thead>\n",
       "    <tr style=\"text-align: right;\">\n",
       "      <th></th>\n",
       "      <th>Date</th>\n",
       "      <th>Open</th>\n",
       "      <th>High</th>\n",
       "      <th>Low</th>\n",
       "      <th>Close</th>\n",
       "      <th>Adj Close</th>\n",
       "      <th>Volume</th>\n",
       "      <th>percent_change</th>\n",
       "    </tr>\n",
       "  </thead>\n",
       "  <tbody>\n",
       "    <tr>\n",
       "      <th>0</th>\n",
       "      <td>2022-05-09</td>\n",
       "      <td>154.929993</td>\n",
       "      <td>155.830002</td>\n",
       "      <td>151.490005</td>\n",
       "      <td>152.059998</td>\n",
       "      <td>151.366486</td>\n",
       "      <td>131577900</td>\n",
       "      <td>-1.887410</td>\n",
       "    </tr>\n",
       "    <tr>\n",
       "      <th>1</th>\n",
       "      <td>2022-05-10</td>\n",
       "      <td>155.520004</td>\n",
       "      <td>156.740005</td>\n",
       "      <td>152.929993</td>\n",
       "      <td>154.509995</td>\n",
       "      <td>153.805298</td>\n",
       "      <td>115366700</td>\n",
       "      <td>-0.653686</td>\n",
       "    </tr>\n",
       "    <tr>\n",
       "      <th>2</th>\n",
       "      <td>2022-05-11</td>\n",
       "      <td>153.500000</td>\n",
       "      <td>155.449997</td>\n",
       "      <td>145.809998</td>\n",
       "      <td>146.500000</td>\n",
       "      <td>145.831848</td>\n",
       "      <td>142689800</td>\n",
       "      <td>-4.778157</td>\n",
       "    </tr>\n",
       "    <tr>\n",
       "      <th>3</th>\n",
       "      <td>2022-05-12</td>\n",
       "      <td>142.770004</td>\n",
       "      <td>146.199997</td>\n",
       "      <td>138.800003</td>\n",
       "      <td>142.559998</td>\n",
       "      <td>141.909805</td>\n",
       "      <td>182602000</td>\n",
       "      <td>-0.147311</td>\n",
       "    </tr>\n",
       "    <tr>\n",
       "      <th>4</th>\n",
       "      <td>2022-05-13</td>\n",
       "      <td>144.589996</td>\n",
       "      <td>148.100006</td>\n",
       "      <td>143.110001</td>\n",
       "      <td>147.110001</td>\n",
       "      <td>146.439056</td>\n",
       "      <td>113990900</td>\n",
       "      <td>1.713007</td>\n",
       "    </tr>\n",
       "  </tbody>\n",
       "</table>\n",
       "</div>"
      ],
      "text/plain": [
       "        Date        Open        High         Low       Close   Adj Close  \\\n",
       "0 2022-05-09  154.929993  155.830002  151.490005  152.059998  151.366486   \n",
       "1 2022-05-10  155.520004  156.740005  152.929993  154.509995  153.805298   \n",
       "2 2022-05-11  153.500000  155.449997  145.809998  146.500000  145.831848   \n",
       "3 2022-05-12  142.770004  146.199997  138.800003  142.559998  141.909805   \n",
       "4 2022-05-13  144.589996  148.100006  143.110001  147.110001  146.439056   \n",
       "\n",
       "      Volume  percent_change  \n",
       "0  131577900       -1.887410  \n",
       "1  115366700       -0.653686  \n",
       "2  142689800       -4.778157  \n",
       "3  182602000       -0.147311  \n",
       "4  113990900        1.713007  "
      ]
     },
     "execution_count": 17,
     "metadata": {},
     "output_type": "execute_result"
    }
   ],
   "source": [
    "data['percent_change'] = (data['Close']-data['Open'])/data['Close']*100\n",
    "data.head()"
   ]
  },
  {
   "cell_type": "code",
   "execution_count": 18,
   "id": "17889355",
   "metadata": {},
   "outputs": [
    {
     "data": {
      "text/plain": [
       "<AxesSubplot:>"
      ]
     },
     "execution_count": 18,
     "metadata": {},
     "output_type": "execute_result"
    },
    {
     "data": {
      "image/png": "[encoded data removed]",
      "text/plain": [
       "<Figure size 640x480 with 1 Axes>"
      ]
     },
     "metadata": {},
     "output_type": "display_data"
    }
   ],
   "source": [
    "data.percent_change.hist()"
   ]
  },
  {
   "cell_type": "code",
   "execution_count": 19,
   "id": "5af29c30",
   "metadata": {},
   "outputs": [],
   "source": []
  },
  {
   "cell_type": "code",
   "execution_count": 70,
   "id": "6a8408f9",
   "metadata": {},
   "outputs": [
    {
     "name": "stdout",
     "output_type": "stream",
     "text": [
      "******\n",
      "146.5\n",
      "6.825938566552901\n",
      "149.22822765606477\n",
      "******\n",
      "******\n",
      "140.82000732421875\n",
      "7.101263655651126\n",
      "144.86277442669802\n",
      "******\n",
      "******\n",
      "142.63999938964844\n",
      "7.010656227418431\n",
      "143.71586173512299\n",
      "******\n",
      "******\n",
      "137.1300048828125\n",
      "7.292350064849573\n",
      "140.25292951606576\n",
      "******\n",
      "******\n",
      "137.44000244140625\n",
      "7.275902082629273\n",
      "138.77543837926012\n",
      "******\n",
      "******\n",
      "138.1999969482422\n",
      "7.2358901742560375\n",
      "138.4739789144642\n",
      "******\n",
      "******\n",
      "138.3800048828125\n",
      "7.226477559722973\n",
      "138.42477876674553\n",
      "******\n",
      "******\n",
      "138.3800048828125\n",
      "7.226477559722973\n",
      "138.40939274034656\n",
      "******\n",
      "******\n",
      "134.8699951171875\n",
      "7.414547610319906\n",
      "136.53367110902656\n",
      "******\n",
      "******\n",
      "136.5\n",
      "7.326007326007326\n",
      "136.52209931780018\n",
      "******\n",
      "******\n",
      "132.3699951171875\n",
      "7.554582132564842\n",
      "134.3023300569407\n",
      "******\n",
      "******\n",
      "126.04000091552734\n",
      "7.933989152143891\n",
      "129.7846394565629\n",
      "******\n",
      "******\n",
      "125.06999969482422\n",
      "7.995522526905252\n",
      "127.19773757742759\n",
      "******\n",
      "Money in bank is 9163.502961859416\n",
      "Number of shares is 6.576351545807877 each priced at 127.19773757742759. Profit in stocks is 278.7863964296586 or 2.79%\n",
      "Initial Price was 152.05999755859375 and current price is 169.58999633789062\n"
     ]
    }
   ],
   "source": [
    "total_investable_amount_og = 10000\n",
    "total_investable_amount = total_investable_amount_og\n",
    "num_chunks = 10\n",
    "dollar_chunks = total_investable_amount / num_chunks\n",
    "\n",
    "total_investable_amount = total_investable_amount - dollar_chunks \n",
    "\n",
    "percent_change_list = data.percent_change.tolist()\n",
    "close_list = data.Close.tolist()\n",
    "open_list = data.Open.tolist()\n",
    "\n",
    "\n",
    "initial_price = close_list.pop(0)\n",
    "initial_num_stocks = dollar_chunks / initial_price\n",
    "avg_price = initial_price\n",
    "num_stocks = initial_num_stocks\n",
    "\n",
    "percent_change_list.pop(0)\n",
    "open_list.pop(0)\n",
    "\n",
    "for i in range(0,len(percent_change_list) - 1): \n",
    "    #Market Opens\n",
    "    if avg_price >= open_list[i] and num_stocks > initial_num_stocks: \n",
    "        total_investable_amount = total_investable_amount + (num_stocks - initial_num_stocks)*(avg_price)\n",
    "        num_stocks = initial_num_stocks\n",
    "    #Market Closes    \n",
    "    percent_change = percent_change_list[i]\n",
    "    if percent_change < -2 and close_list[i] < avg_price and total_investable_amount >= 1000: \n",
    "        print('******')\n",
    "        purchase_price = close_list[i]\n",
    "        print(purchase_price)\n",
    "        num_purchased_today = dollar_chunks / purchase_price\n",
    "        total_investable_amount = total_investable_amount - dollar_chunks\n",
    "        print(num_purchased_today)\n",
    "        avg_price = (num_stocks*avg_price + num_purchased_today*purchase_price) / (num_stocks + num_purchased_today)\n",
    "        print(avg_price)\n",
    "        num_stocks = num_stocks + num_purchased_today\n",
    "        print('******')\n",
    "\n",
    "        \n",
    "profit_dollar = num_stocks*(close_list[-1]-avg_price)\n",
    "profit_percentage = np.round(profit_dollar / total_investable_amount_og *100,2)\n",
    "\n",
    "\n",
    "print('Money in bank is ' + str(total_investable_amount ))\n",
    "print('Total value is ' + str(total_investable_amount ))\n",
    "print('Number of shares is ' + str(num_stocks) + ' each priced at ' + str(avg_price) + '. Profit in stocks is ' + str(profit_dollar) + ' or ' + str(profit_percentage) + str('%'))\n",
    "print('Initial Price was ' + str(initial_price) + ' and current price is ' + str(close_list[-1]))"
   ]
  },
  {
   "cell_type": "code",
   "execution_count": 68,
   "id": "5144badb",
   "metadata": {},
   "outputs": [
    {
     "data": {
      "text/plain": [
       "9999.739070555052"
      ]
     },
     "execution_count": 68,
     "metadata": {},
     "output_type": "execute_result"
    }
   ],
   "source": [
    "(6.576351545807877 * 126.0180610453124) + 9171"
   ]
  },
  {
   "cell_type": "code",
   "execution_count": 40,
   "id": "73eb4c32",
   "metadata": {},
   "outputs": [
    {
     "data": {
      "text/plain": [
       "152.05999755859375"
      ]
     },
     "execution_count": 40,
     "metadata": {},
     "output_type": "execute_result"
    }
   ],
   "source": [
    "initial_price"
   ]
  },
  {
   "cell_type": "code",
   "execution_count": 47,
   "id": "aa2777aa",
   "metadata": {},
   "outputs": [
    {
     "data": {
      "text/plain": [
       "10185.402907823858"
      ]
     },
     "execution_count": 47,
     "metadata": {},
     "output_type": "execute_result"
    }
   ],
   "source": [
    "total_investable_amount"
   ]
  },
  {
   "cell_type": "code",
   "execution_count": 30,
   "id": "dabe4c79",
   "metadata": {},
   "outputs": [
    {
     "data": {
      "text/plain": [
       "128.91625618612204"
      ]
     },
     "execution_count": 30,
     "metadata": {},
     "output_type": "execute_result"
    }
   ],
   "source": [
    "avg_price"
   ]
  },
  {
   "cell_type": "code",
   "execution_count": 31,
   "id": "0ac072af",
   "metadata": {},
   "outputs": [
    {
     "data": {
      "text/plain": [
       "169.58999633789062"
      ]
     },
     "execution_count": 31,
     "metadata": {},
     "output_type": "execute_result"
    }
   ],
   "source": [
    "close_list[-1]"
   ]
  },
  {
   "cell_type": "code",
   "execution_count": 33,
   "id": "6b54c5ad",
   "metadata": {},
   "outputs": [
    {
     "data": {
      "text/plain": [
       "155.52000427246094"
      ]
     },
     "execution_count": 33,
     "metadata": {},
     "output_type": "execute_result"
    }
   ],
   "source": [
    "open_list[0]"
   ]
  },
  {
   "cell_type": "code",
   "execution_count": 34,
   "id": "17d782d7",
   "metadata": {},
   "outputs": [
    {
     "data": {
      "text/plain": [
       "169.27999877929688"
      ]
     },
     "execution_count": 34,
     "metadata": {},
     "output_type": "execute_result"
    }
   ],
   "source": [
    "open_list[-1]"
   ]
  },
  {
   "cell_type": "code",
   "execution_count": 38,
   "id": "28ddf37b",
   "metadata": {},
   "outputs": [
    {
     "data": {
      "text/plain": [
       "1000.0"
      ]
     },
     "execution_count": 38,
     "metadata": {},
     "output_type": "execute_result"
    }
   ],
   "source": [
    "dollar_chunks"
   ]
  },
  {
   "cell_type": "code",
   "execution_count": null,
   "id": "039c4856",
   "metadata": {},
   "outputs": [],
   "source": []
  },
  {
   "cell_type": "code",
   "execution_count": 32,
   "id": "a2802a33",
   "metadata": {},
   "outputs": [
    {
     "data": {
      "text/plain": [
       "6.576351545807877"
      ]
     },
     "execution_count": 32,
     "metadata": {},
     "output_type": "execute_result"
    }
   ],
   "source": [
    "num_stocks"
   ]
  },
  {
   "cell_type": "code",
   "execution_count": 27,
   "id": "90f77dd6",
   "metadata": {},
   "outputs": [
    {
     "data": {
      "text/plain": [
       "245"
      ]
     },
     "execution_count": 27,
     "metadata": {},
     "output_type": "execute_result"
    }
   ],
   "source": [
    "len(percent_change_list)"
   ]
  },
  {
   "cell_type": "code",
   "execution_count": 25,
   "id": "8be74b36",
   "metadata": {},
   "outputs": [
    {
     "data": {
      "text/plain": [
       "245"
      ]
     },
     "execution_count": 25,
     "metadata": {},
     "output_type": "execute_result"
    }
   ],
   "source": [
    "len(close_list)"
   ]
  },
  {
   "cell_type": "code",
   "execution_count": 24,
   "id": "674a94df",
   "metadata": {},
   "outputs": [],
   "source": [
    "initial_price = close_list.pop(0)"
   ]
  },
  {
   "cell_type": "code",
   "execution_count": null,
   "id": "30522bbb",
   "metadata": {},
   "outputs": [],
   "source": []
  },
  {
   "cell_type": "code",
   "execution_count": null,
   "id": "446e276c",
   "metadata": {},
   "outputs": [],
   "source": []
  }
 ],
 "metadata": {
  "kernelspec": {
   "display_name": "Python 3 (ipykernel)",
   "language": "python",
   "name": "python3"
  },
  "language_info": {
   "codemirror_mode": {
    "name": "ipython",
    "version": 3
   },
   "file_extension": ".py",
   "mimetype": "text/x-python",
   "name": "python",
   "nbconvert_exporter": "python",
   "pygments_lexer": "ipython3",
   "version": "3.9.13"
  }
 },
 "nbformat": 4,
 "nbformat_minor": 5
}
