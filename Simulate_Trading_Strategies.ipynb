{
 "cells": [
  {
   "cell_type": "markdown",
   "id": "77cc59f1",
   "metadata": {},
   "source": [
    "## Notebook for simulating one of my favorite trading strategies. \n",
    "\n",
    "### Disclaimer: The author of this code/analysis assumes for those who risk their money trying this strategy. There is inherent risk to participating in the stock market despite this technical analysis. As a general rule, one should only trade/invest with money that one can afford to lose. \n",
    "\n",
    "\n",
    "Author: Evan Tsiklidis"
   ]
  },
  {
   "cell_type": "markdown",
   "id": "884a9618",
   "metadata": {},
   "source": [
    "## Premise: Average down on blue chip stocks and compare with the hold strategy. Code is meant to answer the following questions. \n",
    "1. When should we average down? \n",
    "2. How much should we purchase? "
   ]
  },
  {
   "cell_type": "markdown",
   "id": "afd5ec11",
   "metadata": {},
   "source": [
    "## Summary: More work to be done here, but this could be a profitable strategy! \n",
    "\n",
    "Averaging down / selling a portion if/when the stock rises to break even in this method has the following advantages: \n",
    "1. Provides protection against larger decline. \n",
    "2. Takes advantage of natural market volatility. \n",
    "3. Since we are selling shares in a first-in-first-out manner, we will frequently be selling loser stocks for a loss and keeping the ones at a lower cost basis which has numerous tax benefits. \n",
    "\n",
    "Risks: \n",
    "1. This strategy is based on the assumption that blue-chip stocks will not continuously decline without ever popping up. Generally speaking, stocks will drop but may also increase in value briefly as traders/investers attempt to \"buy-the-dip\". However, there is requirement guaranteeing this will happen: just what tends to happen to stocks in the market. \n",
    "\n",
    "Since we are averaging down and selling at break-even (protecting us from further drops, "
   ]
  },
  {
   "cell_type": "code",
   "execution_count": 1,
   "id": "9c9b5036",
   "metadata": {},
   "outputs": [],
   "source": [
    "#import libraries\n",
    "import pandas as pd\n",
    "import numpy as np\n",
    "import yfinance as yf\n",
    "import datetime\n",
    "from datetime import date, timedelta\n",
    "from trading_strats import stock_data\n",
    "from tqdm import tqdm"
   ]
  },
  {
   "cell_type": "code",
   "execution_count": 2,
   "id": "f12f4259",
   "metadata": {},
   "outputs": [
    {
     "name": "stdout",
     "output_type": "stream",
     "text": [
      "For ticker TSLA and duration = 365 days:\n",
      "My strat. yields a 19.04 % increase. \n",
      "Buy and hold yields a -17.37 % increase\n"
     ]
    },
    {
     "data": {
      "text/plain": [
       "['TSLA', 365, 2, -2, 19.04, -17.37]"
      ]
     },
     "execution_count": 2,
     "metadata": {},
     "output_type": "execute_result"
    }
   ],
   "source": [
    "stock = stock_data(ticker='TSLA',num_days=365,num_chunks=2,percent_cutoff=-2)\n",
    "stock.get_stock_data()\n",
    "stock.simulate_avg_down_strategy()"
   ]
  },
  {
   "cell_type": "code",
   "execution_count": 4,
   "id": "4b378f61",
   "metadata": {},
   "outputs": [
    {
     "name": "stdout",
     "output_type": "stream",
     "text": [
      "For ticker AMZN and duration = 365 days:\n",
      "My strat. yields a 15.28 % increase. \n",
      "Buy and hold yields a -0.91 % increase\n"
     ]
    },
    {
     "data": {
      "text/plain": [
       "['AMZN', 365, 2, -2, 15.28, -0.91]"
      ]
     },
     "execution_count": 4,
     "metadata": {},
     "output_type": "execute_result"
    }
   ],
   "source": [
    "stock = stock_data(ticker='AMZN',num_days=365,num_chunks=2,percent_cutoff=-2)\n",
    "stock.get_stock_data()\n",
    "stock.simulate_avg_down_strategy()"
   ]
  },
  {
   "cell_type": "code",
   "execution_count": null,
   "id": "a3082705",
   "metadata": {},
   "outputs": [],
   "source": [
    "#Main simulator, used for generating data that will be evaluated below. \n",
    "stock_list = ['AMZN','TSLA','QQQ','MRK','BAC','CAT','CVX','GM','JPM','KO','MRK','AAPL']\n",
    "num_days_list = [i * 360 for i in range(1,10)]\n",
    "num_chunks_list = [i for i in range(1,10)]\n",
    "percent_cutoff_list = [-5,-4,-3,-2,-1]\n",
    "\n",
    "data = []\n",
    "\n",
    "for ticker in tqdm(stock_list): \n",
    "    for num_days in num_days_list: \n",
    "        for num_chunks in num_chunks_list: \n",
    "            for percent_cutoff in percent_cutoff_list: \n",
    "                \n",
    "                stock = stock_data(ticker=ticker,num_days=num_days,num_chunks=num_chunks,percent_cutoff=percent_cutoff)\n",
    "                stock.get_stock_data()\n",
    "                results = stock.simulate_avg_down_strategy()       \n",
    "                data.append(results)\n"
   ]
  },
  {
   "cell_type": "markdown",
   "id": "e0e9596b",
   "metadata": {},
   "source": [
    "## Data Analysis from all in-silico experimentation of our strategy will be contined below."
   ]
  },
  {
   "cell_type": "code",
   "execution_count": null,
   "id": "1729c258",
   "metadata": {},
   "outputs": [],
   "source": [
    "# df = pd.DataFrame(data,columns = ['Ticker','Num_Days','Num_Chunks','Cutoff','Strategy','Buy_and_hold'])\n",
    "# df.head()"
   ]
  },
  {
   "cell_type": "code",
   "execution_count": null,
   "id": "30dd0cbb",
   "metadata": {},
   "outputs": [],
   "source": [
    "#df.corr()"
   ]
  },
  {
   "cell_type": "code",
   "execution_count": null,
   "id": "12e79c27",
   "metadata": {},
   "outputs": [],
   "source": [
    "#strat_wins = df[df['Strategy'] > df['Buy_and_hold']]\n",
    "#strat_wins.head(100)"
   ]
  },
  {
   "cell_type": "code",
   "execution_count": null,
   "id": "e4c1375c",
   "metadata": {},
   "outputs": [],
   "source": [
    "#df[['Cutoff','Num_Chunks','Strategy',]].groupby(['Cutoff','Num_Chunks']).mean().reset_index()"
   ]
  },
  {
   "cell_type": "code",
   "execution_count": null,
   "id": "8812c579",
   "metadata": {},
   "outputs": [],
   "source": [
    "#strat_wins[['Cutoff','Num_Chunks','Strategy',]].groupby(['Cutoff','Num_Chunks']).mean().reset_index()"
   ]
  },
  {
   "cell_type": "code",
   "execution_count": null,
   "id": "ff2c406f",
   "metadata": {},
   "outputs": [],
   "source": [
    "#strat_wins[['Cutoff','Strategy',]].groupby(['Cutoff']).mean().reset_index()"
   ]
  },
  {
   "cell_type": "code",
   "execution_count": null,
   "id": "7ae5b150",
   "metadata": {},
   "outputs": [],
   "source": [
    "#df[['Cutoff','Strategy',]].groupby(['Cutoff']).mean().reset_index()"
   ]
  },
  {
   "cell_type": "code",
   "execution_count": null,
   "id": "8b149c13",
   "metadata": {},
   "outputs": [],
   "source": [
    "#short_term = df[df['Num_Days'] < 1081]\n",
    "#short_term[['Cutoff','Strategy',]].groupby(['Cutoff']).mean().reset_index()"
   ]
  },
  {
   "cell_type": "code",
   "execution_count": null,
   "id": "5b6fd807",
   "metadata": {},
   "outputs": [],
   "source": [
    "#short_term[['Num_Chunks','Strategy',]].groupby(['Num_Chunks']).mean().reset_index()"
   ]
  },
  {
   "cell_type": "code",
   "execution_count": null,
   "id": "bb80dcba",
   "metadata": {},
   "outputs": [],
   "source": [
    "#strat_wins.Ticker.value_counts()"
   ]
  },
  {
   "cell_type": "code",
   "execution_count": null,
   "id": "bacc800e",
   "metadata": {},
   "outputs": [],
   "source": [
    "#strat_wins.describe()"
   ]
  },
  {
   "cell_type": "code",
   "execution_count": null,
   "id": "5368a60f",
   "metadata": {},
   "outputs": [],
   "source": [
    "#strat_loses = df[df['Strategy'] < df['Buy_and_hold']]\n",
    "#strat_loses.head()"
   ]
  },
  {
   "cell_type": "code",
   "execution_count": null,
   "id": "c3633201",
   "metadata": {},
   "outputs": [],
   "source": [
    "#strat_loses.describe()"
   ]
  },
  {
   "cell_type": "code",
   "execution_count": null,
   "id": "10842211",
   "metadata": {},
   "outputs": [],
   "source": []
  },
  {
   "cell_type": "code",
   "execution_count": null,
   "id": "204fec11",
   "metadata": {},
   "outputs": [],
   "source": []
  },
  {
   "cell_type": "code",
   "execution_count": null,
   "id": "0fe03f78",
   "metadata": {},
   "outputs": [],
   "source": []
  },
  {
   "cell_type": "code",
   "execution_count": null,
   "id": "b42aacbf",
   "metadata": {},
   "outputs": [],
   "source": []
  }
 ],
 "metadata": {
  "kernelspec": {
   "display_name": "Python 3 (ipykernel)",
   "language": "python",
   "name": "python3"
  },
  "language_info": {
   "codemirror_mode": {
    "name": "ipython",
    "version": 3
   },
   "file_extension": ".py",
   "mimetype": "text/x-python",
   "name": "python",
   "nbconvert_exporter": "python",
   "pygments_lexer": "ipython3",
   "version": "3.9.13"
  }
 },
 "nbformat": 4,
 "nbformat_minor": 5
}
