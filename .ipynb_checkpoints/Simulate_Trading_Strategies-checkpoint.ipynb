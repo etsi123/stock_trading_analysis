{
 "cells": [
  {
   "cell_type": "code",
   "execution_count": 1,
   "id": "9c9b5036",
   "metadata": {},
   "outputs": [],
   "source": [
    "#import libraries\n",
    "import pandas as pd\n",
    "import numpy as np\n",
    "import yfinance as yf\n",
    "import datetime\n",
    "from datetime import date, timedelta\n",
    "from trading_strats import stock_data"
   ]
  },
  {
   "cell_type": "code",
   "execution_count": 2,
   "id": "85c5f316",
   "metadata": {},
   "outputs": [
    {
     "name": "stdout",
     "output_type": "stream",
     "text": [
      "For ticker TSLA and duration = 365 days:\n",
      "My strat. yields a 8.39 % increase. \n",
      "Buy and hold yields a -47.11 % increase\n"
     ]
    }
   ],
   "source": [
    "stock = stock_data(ticker='TSLA',num_days = 365,num_chunks = 2,percent_cutoff = -1)\n",
    "stock.get_stock_data()\n",
    "stock.simulate_avg_down_strategy()"
   ]
  },
  {
   "cell_type": "code",
   "execution_count": 3,
   "id": "1c02cb33",
   "metadata": {},
   "outputs": [
    {
     "name": "stdout",
     "output_type": "stream",
     "text": [
      "For ticker AMZN and duration = 365 days:\n",
      "My strat. yields a 21.33 % increase. \n",
      "Buy and hold yields a -16.6 % increase\n"
     ]
    }
   ],
   "source": [
    "stock = stock_data(ticker='AMZN',num_days = 365,num_chunks = 2,percent_cutoff = -1)\n",
    "stock.get_stock_data()\n",
    "stock.simulate_avg_down_strategy()"
   ]
  },
  {
   "cell_type": "code",
   "execution_count": 4,
   "id": "963d3ac5",
   "metadata": {},
   "outputs": [
    {
     "name": "stdout",
     "output_type": "stream",
     "text": [
      "For ticker QQQ and duration = 3650 days:\n",
      "My strat. yields a 171.14 % increase. \n",
      "Buy and hold yields a 341.13 % increase\n"
     ]
    }
   ],
   "source": [
    "stock = stock_data(ticker='QQQ',num_days = 10*365,num_chunks = 2,percent_cutoff = -1)\n",
    "stock.get_stock_data()\n",
    "stock.simulate_avg_down_strategy()"
   ]
  },
  {
   "cell_type": "code",
   "execution_count": 5,
   "id": "ae300b0b",
   "metadata": {},
   "outputs": [
    {
     "name": "stdout",
     "output_type": "stream",
     "text": [
      "For ticker META and duration = 365 days:\n",
      "My strat. yields a 23.37 % increase. \n",
      "Buy and hold yields a 12.83 % increase\n"
     ]
    }
   ],
   "source": [
    "stock = stock_data(ticker='META',num_days = 365,num_chunks = 3,percent_cutoff = -1)\n",
    "stock.get_stock_data()\n",
    "stock.simulate_avg_down_strategy()"
   ]
  },
  {
   "cell_type": "code",
   "execution_count": null,
   "id": "5d3e61b6",
   "metadata": {},
   "outputs": [],
   "source": []
  },
  {
   "cell_type": "code",
   "execution_count": null,
   "id": "1ca8a0dc",
   "metadata": {},
   "outputs": [],
   "source": []
  }
 ],
 "metadata": {
  "kernelspec": {
   "display_name": "Python 3 (ipykernel)",
   "language": "python",
   "name": "python3"
  },
  "language_info": {
   "codemirror_mode": {
    "name": "ipython",
    "version": 3
   },
   "file_extension": ".py",
   "mimetype": "text/x-python",
   "name": "python",
   "nbconvert_exporter": "python",
   "pygments_lexer": "ipython3",
   "version": "3.9.13"
  }
 },
 "nbformat": 4,
 "nbformat_minor": 5
}
