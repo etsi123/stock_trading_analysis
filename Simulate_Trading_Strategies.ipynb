{
 "cells": [
  {
   "cell_type": "markdown",
   "id": "77cc59f1",
   "metadata": {},
   "source": [
    "## Notebook for simulating my average down strategy\n",
    "\n",
    "### Disclaimer: The author of this code/analysis is not resposible for those who risk their money trying this strategy. There is inherent risk to participating in the stock market despite this technical analysis. As a general rule, one should only trade/invest with money that one can afford to lose. \n",
    "\n",
    "\n",
    "Author: Evan Tsiklidis"
   ]
  },
  {
   "cell_type": "markdown",
   "id": "884a9618",
   "metadata": {},
   "source": [
    "## Premise: Average down on blue chip stocks and compare with the hold strategy. Code is meant to answer the following questions. \n",
    "1. When should we average down? \n",
    "2. How much should we purchase when we average down? "
   ]
  },
  {
   "cell_type": "markdown",
   "id": "afd5ec11",
   "metadata": {},
   "source": [
    "## Summary: More work to be done here, but this could be a profitable strategy! \n",
    "\n",
    "Averaging down / selling a portion if/when the stock rises to break even in this method has the following advantages: \n",
    "1. Provides protection against larger decline. \n",
    "2. Takes advantage of natural market volatility. \n",
    "3. Since we are selling shares in a first-in-first-out manner, we will frequently be selling loser stocks for a loss and keeping the ones at a lower cost basis which has numerous tax benefits. \n",
    "\n",
    "Risks: \n",
    "1. This strategy is based on the assumption that blue-chip stocks will not monotonically decline. Generally speaking, stocks will drop but may also increase in value briefly as traders/investers attempt to \"buy-the-dip\". However, there is requirement guaranteeing this will happen: just what tends to happen to stocks in the market. "
   ]
  },
  {
   "cell_type": "code",
   "execution_count": 1,
   "id": "9c9b5036",
   "metadata": {},
   "outputs": [],
   "source": [
    "#import libraries\n",
    "import pandas as pd\n",
    "import numpy as np\n",
    "import yfinance as yf\n",
    "import datetime\n",
    "from datetime import date, timedelta\n",
    "from trading_strats import StockEvaluations\n",
    "from tqdm import tqdm\n",
    "import os\n",
    "from ydata_profiling import ProfileReport\n",
    "import seaborn as sns"
   ]
  },
  {
   "cell_type": "code",
   "execution_count": 2,
   "id": "f12f4259",
   "metadata": {},
   "outputs": [
    {
     "data": {
      "text/plain": [
       "['TSLA', 365, 2, -2, -12.99, -14.17]"
      ]
     },
     "execution_count": 2,
     "metadata": {},
     "output_type": "execute_result"
    }
   ],
   "source": [
    "stock = StockEvaluations(ticker='TSLA',num_days=365,num_chunks=2,percent_cutoff=-2)\n",
    "stock.getStockData()\n",
    "stock.simulateAvgDownStrat()"
   ]
  },
  {
   "cell_type": "code",
   "execution_count": 3,
   "id": "febd3239",
   "metadata": {},
   "outputs": [
    {
     "data": {
      "text/plain": [
       "['AMZN', 365, 2, -2, 8.49, 12.29]"
      ]
     },
     "execution_count": 3,
     "metadata": {},
     "output_type": "execute_result"
    }
   ],
   "source": [
    "stock = StockEvaluations(ticker='AMZN',num_days=365,num_chunks=2,percent_cutoff=-2)\n",
    "stock.getStockData()\n",
    "stock.simulateAvgDownStrat()"
   ]
  },
  {
   "cell_type": "code",
   "execution_count": 4,
   "id": "66331694",
   "metadata": {},
   "outputs": [
    {
     "data": {
      "text/plain": [
       "['BBBYQ', 365, 2, -5, -97.69, -97.76]"
      ]
     },
     "execution_count": 4,
     "metadata": {},
     "output_type": "execute_result"
    }
   ],
   "source": [
    "stock = StockEvaluations(ticker='BBBYQ',num_days=365,num_chunks=2,percent_cutoff=-5)\n",
    "stock.getStockData()\n",
    "stock.simulateAvgDownStrat()"
   ]
  },
  {
   "cell_type": "code",
   "execution_count": 5,
   "id": "714078e2",
   "metadata": {},
   "outputs": [
    {
     "data": {
      "text/html": [
       "<div>\n",
       "<style scoped>\n",
       "    .dataframe tbody tr th:only-of-type {\n",
       "        vertical-align: middle;\n",
       "    }\n",
       "\n",
       "    .dataframe tbody tr th {\n",
       "        vertical-align: top;\n",
       "    }\n",
       "\n",
       "    .dataframe thead th {\n",
       "        text-align: right;\n",
       "    }\n",
       "</style>\n",
       "<table border=\"1\" class=\"dataframe\">\n",
       "  <thead>\n",
       "    <tr style=\"text-align: right;\">\n",
       "      <th></th>\n",
       "      <th>Ticker</th>\n",
       "      <th>Num_Days</th>\n",
       "      <th>Num_Chunks</th>\n",
       "      <th>Cutoff</th>\n",
       "      <th>Strategy</th>\n",
       "      <th>Buy_and_hold</th>\n",
       "    </tr>\n",
       "  </thead>\n",
       "  <tbody>\n",
       "    <tr>\n",
       "      <th>0</th>\n",
       "      <td>AMZN</td>\n",
       "      <td>360</td>\n",
       "      <td>1</td>\n",
       "      <td>-5</td>\n",
       "      <td>3.44</td>\n",
       "      <td>3.44</td>\n",
       "    </tr>\n",
       "    <tr>\n",
       "      <th>1</th>\n",
       "      <td>AMZN</td>\n",
       "      <td>360</td>\n",
       "      <td>1</td>\n",
       "      <td>-4</td>\n",
       "      <td>3.44</td>\n",
       "      <td>3.44</td>\n",
       "    </tr>\n",
       "    <tr>\n",
       "      <th>2</th>\n",
       "      <td>AMZN</td>\n",
       "      <td>360</td>\n",
       "      <td>1</td>\n",
       "      <td>-3</td>\n",
       "      <td>3.44</td>\n",
       "      <td>3.44</td>\n",
       "    </tr>\n",
       "    <tr>\n",
       "      <th>3</th>\n",
       "      <td>AMZN</td>\n",
       "      <td>360</td>\n",
       "      <td>1</td>\n",
       "      <td>-2</td>\n",
       "      <td>3.44</td>\n",
       "      <td>3.44</td>\n",
       "    </tr>\n",
       "    <tr>\n",
       "      <th>4</th>\n",
       "      <td>AMZN</td>\n",
       "      <td>360</td>\n",
       "      <td>1</td>\n",
       "      <td>-1</td>\n",
       "      <td>3.44</td>\n",
       "      <td>3.44</td>\n",
       "    </tr>\n",
       "  </tbody>\n",
       "</table>\n",
       "</div>"
      ],
      "text/plain": [
       "  Ticker  Num_Days  Num_Chunks  Cutoff  Strategy  Buy_and_hold\n",
       "0   AMZN       360           1      -5      3.44          3.44\n",
       "1   AMZN       360           1      -4      3.44          3.44\n",
       "2   AMZN       360           1      -3      3.44          3.44\n",
       "3   AMZN       360           1      -2      3.44          3.44\n",
       "4   AMZN       360           1      -1      3.44          3.44"
      ]
     },
     "execution_count": 5,
     "metadata": {},
     "output_type": "execute_result"
    }
   ],
   "source": [
    "if 'stockStratData.csv' in os.listdir(os.getcwd()+'/sim_results'): \n",
    "    df = pd.read_csv(os.getcwd() + '/sim_results/stockStratData.csv').drop(['Unnamed: 0'],axis=1)\n",
    "else: \n",
    "    #Main simulator, used for generating data that will be evaluated below. \n",
    "    stock_list = ['AMZN','TSLA','QQQ','MRK','BAC','CAT','CVX','GM','JPM','KO','MRK','AAPL']\n",
    "    num_days_list = [i * 360 for i in range(1,10)]\n",
    "    num_chunks_list = [i for i in range(1,10)]\n",
    "    percent_cutoff_list = [-5,-4,-3,-2,-1]\n",
    "\n",
    "    data = []\n",
    "\n",
    "    for ticker in tqdm(stock_list): \n",
    "        for num_days in num_days_list: \n",
    "            for num_chunks in num_chunks_list: \n",
    "                for percent_cutoff in percent_cutoff_list: \n",
    "\n",
    "                    stock = StockEvaluations(ticker=ticker,num_days=num_days,num_chunks=num_chunks,percent_cutoff=percent_cutoff)\n",
    "                    stock.getStockData()\n",
    "                    results = stock.simulateAvgDownStrat()       \n",
    "                    data.append(results)\n",
    "    df = pd.DataFrame(data,columns = ['Ticker','Num_Days','Num_Chunks','Cutoff','Strategy','Buy_and_hold'])\n",
    "df.head()"
   ]
  },
  {
   "cell_type": "markdown",
   "id": "e0e9596b",
   "metadata": {},
   "source": [
    "## Data Analysis from all in-silico experimentation of our strategy will be contined below."
   ]
  },
  {
   "cell_type": "code",
   "execution_count": null,
   "id": "2ea6f98e",
   "metadata": {},
   "outputs": [],
   "source": [
    "profile = ProfileReport(df, title=\"Profiling Report\")\n",
    "profile"
   ]
  },
  {
   "cell_type": "code",
   "execution_count": null,
   "id": "24234931",
   "metadata": {},
   "outputs": [],
   "source": [
    "corr_matrix = df.corr()\n",
    "mask = np.triu(np.ones_like(corr_matrix, dtype=bool))\n",
    "sns.heatmap(corr_matrix, annot=True,vmin=-1.0, vmax=1.0,cmap='viridis',mask=mask)\n",
    "plt.show()"
   ]
  },
  {
   "cell_type": "code",
   "execution_count": null,
   "id": "5290c618",
   "metadata": {},
   "outputs": [],
   "source": [
    "pivot_df = df[['Num_Chunks','Cutoff','Strategy']].groupby(['Num_Chunks','Cutoff']).mean().reset_index()\n",
    "pivot_df.head(10)"
   ]
  },
  {
   "cell_type": "code",
   "execution_count": null,
   "id": "3d27bf36",
   "metadata": {},
   "outputs": [],
   "source": [
    "pivot_df = pivot_df.pivot('Num_Chunks','Cutoff')#.reset_index(drop=True)#.reset_index(drop=True)\n",
    "pivot_df"
   ]
  },
  {
   "cell_type": "code",
   "execution_count": null,
   "id": "6f3e1226",
   "metadata": {},
   "outputs": [],
   "source": [
    "sns.heatmap(pivot_df, annot=True,cmap='viridis')\n",
    "plt.show()"
   ]
  },
  {
   "cell_type": "markdown",
   "id": "48a27347",
   "metadata": {},
   "source": [
    "## Let's take a closer look at situations where the average down strategy wins"
   ]
  },
  {
   "cell_type": "code",
   "execution_count": null,
   "id": "842b6e56",
   "metadata": {},
   "outputs": [],
   "source": [
    "stratWins = df[df['Strategy'] > df['Buy_and_hold']]\n",
    "stratWins.head()"
   ]
  },
  {
   "cell_type": "code",
   "execution_count": null,
   "id": "ed03c09c",
   "metadata": {},
   "outputs": [],
   "source": [
    "profile = ProfileReport(stratWins, title=\"Profiling Report\")\n",
    "profile"
   ]
  },
  {
   "cell_type": "code",
   "execution_count": null,
   "id": "9f8fbafa",
   "metadata": {},
   "outputs": [],
   "source": [
    "corr_matrix = stratWins.corr()\n",
    "mask = np.triu(np.ones_like(corr_matrix, dtype=bool))\n",
    "sns.heatmap(corr_matrix, annot=True,vmin=-1.0, vmax=1.0,cmap='viridis',mask=mask)\n",
    "plt.show()"
   ]
  },
  {
   "cell_type": "code",
   "execution_count": null,
   "id": "ea7ba32e",
   "metadata": {},
   "outputs": [],
   "source": [
    "pivot_df = stratWins[['Num_Chunks','Cutoff','Strategy']].groupby(['Num_Chunks','Cutoff']).mean().reset_index()\n",
    "pivot_df.head(10)"
   ]
  },
  {
   "cell_type": "code",
   "execution_count": null,
   "id": "9ad26721",
   "metadata": {},
   "outputs": [],
   "source": [
    "pivot_df = pivot_df.pivot('Num_Chunks','Cutoff')#.reset_index(drop=True)#.reset_index(drop=True)\n",
    "pivot_df"
   ]
  },
  {
   "cell_type": "code",
   "execution_count": null,
   "id": "1da753a5",
   "metadata": {},
   "outputs": [],
   "source": [
    "sns.heatmap(pivot_df, annot=True,cmap='viridis')\n",
    "plt.show()"
   ]
  },
  {
   "cell_type": "markdown",
   "id": "00b8bf72",
   "metadata": {},
   "source": [
    "## What about when the strategy loses? "
   ]
  },
  {
   "cell_type": "code",
   "execution_count": null,
   "id": "47205757",
   "metadata": {},
   "outputs": [],
   "source": [
    "stratLoses = df[df['Strategy'] < df['Buy_and_hold']]\n",
    "stratLoses.head()"
   ]
  },
  {
   "cell_type": "code",
   "execution_count": null,
   "id": "3da63207",
   "metadata": {},
   "outputs": [],
   "source": [
    "stratLoses.describe()"
   ]
  },
  {
   "cell_type": "code",
   "execution_count": null,
   "id": "4700fca0",
   "metadata": {},
   "outputs": [],
   "source": [
    "stratWins.describe()"
   ]
  },
  {
   "cell_type": "code",
   "execution_count": null,
   "id": "b411d446",
   "metadata": {},
   "outputs": [],
   "source": [
    "pivot_df = stratLoses[['Num_Chunks','Cutoff','Strategy']].groupby(['Num_Chunks','Cutoff']).mean().reset_index()\n",
    "pivot_df.head(10)"
   ]
  },
  {
   "cell_type": "code",
   "execution_count": null,
   "id": "ae9cee0c",
   "metadata": {},
   "outputs": [],
   "source": [
    "pivot_df = pivot_df.pivot('Num_Chunks','Cutoff')#.reset_index(drop=True)#.reset_index(drop=True)\n",
    "pivot_df"
   ]
  },
  {
   "cell_type": "code",
   "execution_count": null,
   "id": "312810d7",
   "metadata": {},
   "outputs": [],
   "source": [
    "sns.heatmap(pivot_df, annot=True,cmap='viridis')\n",
    "plt.show()"
   ]
  },
  {
   "cell_type": "code",
   "execution_count": null,
   "id": "5d5a56ba",
   "metadata": {},
   "outputs": [],
   "source": []
  },
  {
   "cell_type": "code",
   "execution_count": null,
   "id": "30dd0cbb",
   "metadata": {},
   "outputs": [],
   "source": [
    "#df.corr()"
   ]
  },
  {
   "cell_type": "code",
   "execution_count": null,
   "id": "12e79c27",
   "metadata": {},
   "outputs": [],
   "source": [
    "#strat_wins = df[df['Strategy'] > df['Buy_and_hold']]\n",
    "#strat_wins.head(100)"
   ]
  },
  {
   "cell_type": "code",
   "execution_count": null,
   "id": "e4c1375c",
   "metadata": {},
   "outputs": [],
   "source": [
    "#df[['Cutoff','Num_Chunks','Strategy',]].groupby(['Cutoff','Num_Chunks']).mean().reset_index()"
   ]
  },
  {
   "cell_type": "code",
   "execution_count": null,
   "id": "8812c579",
   "metadata": {},
   "outputs": [],
   "source": [
    "#strat_wins[['Cutoff','Num_Chunks','Strategy',]].groupby(['Cutoff','Num_Chunks']).mean().reset_index()"
   ]
  },
  {
   "cell_type": "code",
   "execution_count": null,
   "id": "ff2c406f",
   "metadata": {},
   "outputs": [],
   "source": [
    "#strat_wins[['Cutoff','Strategy',]].groupby(['Cutoff']).mean().reset_index()"
   ]
  },
  {
   "cell_type": "code",
   "execution_count": null,
   "id": "7ae5b150",
   "metadata": {},
   "outputs": [],
   "source": [
    "#df[['Cutoff','Strategy',]].groupby(['Cutoff']).mean().reset_index()"
   ]
  },
  {
   "cell_type": "code",
   "execution_count": null,
   "id": "8b149c13",
   "metadata": {},
   "outputs": [],
   "source": [
    "#short_term = df[df['Num_Days'] < 1081]\n",
    "#short_term[['Cutoff','Strategy',]].groupby(['Cutoff']).mean().reset_index()"
   ]
  },
  {
   "cell_type": "code",
   "execution_count": null,
   "id": "5b6fd807",
   "metadata": {},
   "outputs": [],
   "source": [
    "#short_term[['Num_Chunks','Strategy',]].groupby(['Num_Chunks']).mean().reset_index()"
   ]
  },
  {
   "cell_type": "code",
   "execution_count": null,
   "id": "bb80dcba",
   "metadata": {},
   "outputs": [],
   "source": [
    "#strat_wins.Ticker.value_counts()"
   ]
  },
  {
   "cell_type": "code",
   "execution_count": null,
   "id": "bacc800e",
   "metadata": {},
   "outputs": [],
   "source": [
    "#strat_wins.describe()"
   ]
  },
  {
   "cell_type": "code",
   "execution_count": null,
   "id": "5368a60f",
   "metadata": {},
   "outputs": [],
   "source": [
    "#strat_loses = df[df['Strategy'] < df['Buy_and_hold']]\n",
    "#strat_loses.head()"
   ]
  },
  {
   "cell_type": "code",
   "execution_count": null,
   "id": "c3633201",
   "metadata": {},
   "outputs": [],
   "source": [
    "#strat_loses.describe()"
   ]
  },
  {
   "cell_type": "code",
   "execution_count": null,
   "id": "10842211",
   "metadata": {},
   "outputs": [],
   "source": []
  },
  {
   "cell_type": "code",
   "execution_count": null,
   "id": "204fec11",
   "metadata": {},
   "outputs": [],
   "source": []
  },
  {
   "cell_type": "code",
   "execution_count": null,
   "id": "0fe03f78",
   "metadata": {},
   "outputs": [],
   "source": []
  },
  {
   "cell_type": "code",
   "execution_count": null,
   "id": "b42aacbf",
   "metadata": {},
   "outputs": [],
   "source": []
  }
 ],
 "metadata": {
  "kernelspec": {
   "display_name": "Python 3 (ipykernel)",
   "language": "python",
   "name": "python3"
  },
  "language_info": {
   "codemirror_mode": {
    "name": "ipython",
    "version": 3
   },
   "file_extension": ".py",
   "mimetype": "text/x-python",
   "name": "python",
   "nbconvert_exporter": "python",
   "pygments_lexer": "ipython3",
   "version": "3.9.13"
  }
 },
 "nbformat": 4,
 "nbformat_minor": 5
}
